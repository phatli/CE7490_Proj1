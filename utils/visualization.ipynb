{
 "cells": [
  {
   "cell_type": "code",
   "execution_count": 39,
   "metadata": {},
   "outputs": [],
   "source": [
    "import os\n",
    "import sys\n",
    "import matplotlib.pyplot as plt\n",
    "import numpy as np\n",
    "import pandas as pd\n",
    "import seaborn as sns\n",
    "import json"
   ]
  },
  {
   "cell_type": "code",
   "execution_count": 40,
   "metadata": {},
   "outputs": [],
   "source": [
    "def get_json_file_list(dir_path):\n",
    "    json_file_list = []\n",
    "    for root, dirs, files in os.walk(dir_path):\n",
    "        for file in files:\n",
    "            if file.endswith(\".json\"):\n",
    "                json_file_list.append(os.path.join(root, file))\n",
    "    # print(\"Number of json files: {}\".format(len(json_file_list)))\n",
    "    return json_file_list\n",
    "\n",
    "def load_jason_file(json_file):\n",
    "    with open(json_file, 'r') as f:\n",
    "        # print(\"file: {}\".format(f))\n",
    "        return json.load(f)\n",
    "    \n",
    "def load_dataframe_from_bunch_of_json_files(json_files):\n",
    "    data = []\n",
    "    for json_file in json_files:\n",
    "        data.append(load_jason_file(json_file))\n",
    "    # print(\"Number of json files: {}\".format(len(data)))\n",
    "    # print(data)\n",
    "    # data[\"release\"]\n",
    "    return pd.DataFrame(data)"
   ]
  },
  {
   "cell_type": "code",
   "execution_count": 41,
   "metadata": {},
   "outputs": [],
   "source": [
    "data_path = \"../CE7490-data/FixKeepAliveWindowPolicy_5/\"\n",
    "\n",
    "df = load_dataframe_from_bunch_of_json_files(get_json_file_list(data_path))"
   ]
  },
  {
   "cell_type": "code",
   "execution_count": 42,
   "metadata": {},
   "outputs": [],
   "source": [
    "# print(df.head())"
   ]
  },
  {
   "cell_type": "code",
   "execution_count": 43,
   "metadata": {},
   "outputs": [
    {
     "name": "stderr",
     "output_type": "stream",
     "text": [
      "/tmp/ipykernel_2860200/2992483988.py:9: VisibleDeprecationWarning: Creating an ndarray from ragged nested sequences (which is a list-or-tuple of lists-or-tuples-or ndarrays with different lengths or shapes) is deprecated. If you meant to do this, you must specify 'dtype=object' when creating the ndarray.\n",
      "  df[\"keeplive_win\"].apply(lambda x : np.array(x).shape).head()\n"
     ]
    },
    {
     "data": {
      "text/plain": [
       "0    (4088, 2)\n",
       "1    (5704, 2)\n",
       "2        (30,)\n",
       "3    (2129, 2)\n",
       "4     (418, 2)\n",
       "Name: keeplive_win, dtype: object"
      ]
     },
     "execution_count": 43,
     "metadata": {},
     "output_type": "execute_result"
    }
   ],
   "source": [
    "\n",
    "df[\"cold_start_count\"] = df[\"coldstart\"].apply(lambda x: len(x))\n",
    "df[\"warm_start_count\"] = df[\"warmstart\"].apply(lambda x: len(x))\n",
    "df[\"invoc_count2\"] = df[\"cold_start_count\"] + df[\"warm_start_count\"]\n",
    "df[\"invoc_count\"] = df[\"policy_record\"].apply(lambda x: x[\"invoc_count\"])\n",
    "# df[\"waste_memory_time\"] = df[\"keeplive_win\"].apply(lambda x: x[0][1]-x[0][0])\n",
    "df[\"cold_start_percent\"] = df[\"cold_start_count\"] / df[\"invoc_count\"]\n",
    "# # df[\"keeplive_win\"].head() \n",
    "# # df[\"waste_memory_time\"] = df[\"keeplive_win\"].apply(lambda x : np.array(x)[:,1]-np.array(x)[:, 0])\n",
    "df[\"keeplive_win\"].apply(lambda x : np.array(x, dtype=object).shape).head()\n",
    "df[\"waste_memory_time\"] = df[\"keeplive_win\"].apply(lambda x : (np.array(x, dtype=object)[:,1]-np.array(x, dtype=object)[:, 0]) if np.array(x, dtype=object).shape[1] != None)\n",
    "# df[\"waste_memory_time\"].head()\n",
    "# df[\"cold_start_percent\"].head(100)\n",
    "# df[\"invoc_count\"].head()\n",
    "# # print(get_json_file_list(data_path)[2])"
   ]
  },
  {
   "cell_type": "code",
   "execution_count": 31,
   "metadata": {},
   "outputs": [
    {
     "data": {
      "text/plain": [
       "0      151\n",
       "1     6068\n",
       "2    20093\n",
       "3     1897\n",
       "4       23\n",
       "Name: invoc_count2, dtype: int64"
      ]
     },
     "execution_count": 31,
     "metadata": {},
     "output_type": "execute_result"
    }
   ],
   "source": [
    "# df[\"invoc_count2\"].head()\n",
    "# # all are timestampe \n",
    "# dummy_data = {\n",
    "#     \"release\" : [],\n",
    "#     \"coldstart\" : [],\n",
    "#     \"warmstart\" : [],\n",
    "#     \"warm_state\" : [],\n",
    "#     \"run_state\" : [],\n",
    "#     \"win_state\" : [],\n",
    "#     \"policy_record\" : [],\n",
    "#     \"obb_count\" : [],\n",
    "# }\n"
   ]
  },
  {
   "cell_type": "code",
   "execution_count": null,
   "metadata": {},
   "outputs": [],
   "source": []
  },
  {
   "cell_type": "code",
   "execution_count": null,
   "metadata": {},
   "outputs": [],
   "source": [
    "def count(data, key):\n",
    "    return len(data[key])"
   ]
  },
  {
   "cell_type": "code",
   "execution_count": 4,
   "metadata": {},
   "outputs": [],
   "source": [
    "def draw_line_chart(dataframe, x, y, hue = None):\n",
    "    sns.set_theme(style=\"darkgrid\")\n",
    "    sns.lineplot(x=x, y=y, hue=hue, data=dataframe)\n",
    "    plt.show()\n",
    "    \n",
    "def draw_bar_chart(dataframe, x, y, hue = None):\n",
    "    sns.set_theme(style=\"darkgrid\")\n",
    "    sns.barplot(x=x, y=y, hue=hue, data=dataframe)\n",
    "    plt.show()\n",
    "    \n",
    "def draw_cdf(dataframe, x, hue = None):\n",
    "    sns.set_theme(style=\"darkgrid\")\n",
    "    sns.ecdfplot(x=x, hue=hue, data=dataframe)\n",
    "    plt.show()\n",
    "\n"
   ]
  },
  {
   "cell_type": "code",
   "execution_count": null,
   "metadata": {},
   "outputs": [],
   "source": [
    "def draw_cold_start_cdf(dataframe, x=\"cold_start_percent\", y=\"CDF\"):\n",
    "    draw_cdf(dataframe, x, hue=\"policy\")\n",
    "    \n",
    "def draw_multi_cold_start_cdf(dataframe_list, x=\"cold_start_percent\", y=\"CDF\"):\n",
    "    for df in dataframe_list:\n",
    "        draw_cold_start_cdf(df, x, y)"
   ]
  }
 ],
 "metadata": {
  "kernelspec": {
   "display_name": "Python 3.9.13 ('ce7490')",
   "language": "python",
   "name": "python3"
  },
  "language_info": {
   "codemirror_mode": {
    "name": "ipython",
    "version": 3
   },
   "file_extension": ".py",
   "mimetype": "text/x-python",
   "name": "python",
   "nbconvert_exporter": "python",
   "pygments_lexer": "ipython3",
   "version": "3.9.13"
  },
  "orig_nbformat": 4,
  "vscode": {
   "interpreter": {
    "hash": "0ac2e82fbc1c146cb1421ff2c9fb9553ab5abde5f18fd90b753e19de0617b537"
   }
  }
 },
 "nbformat": 4,
 "nbformat_minor": 2
}
