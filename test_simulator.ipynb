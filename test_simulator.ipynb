{
 "cells": [
  {
   "cell_type": "code",
   "execution_count": null,
   "metadata": {},
   "outputs": [],
   "source": [
    "import os \n",
    "import sys\n",
    "import numpy as np\n",
    "import matplotlib.pyplot as plt\n",
    "\n",
    "# from simfaas.SimProcess import SimProcess, ExpSimProcess\n",
    "from simfaas.ServerlessSimulator import ServerlessSimulator as Sim\n",
    "\n"
   ]
  },
  {
   "cell_type": "code",
   "execution_count": null,
   "metadata": {},
   "outputs": [],
   "source": [
    "sim = Sim(arrival_rate=0.9, warm_service_rate=1/1.991, cold_service_rate=1/2.244,\n",
    "            expiration_threshold=600, max_time=1e6)\n",
    "sim.generate_trace(debug_print=False, progress=True)\n",
    "sim.print_trace_results()\n"
   ]
  },
  {
   "cell_type": "code",
   "execution_count": null,
   "metadata": {},
   "outputs": [],
   "source": [
    "sim.calculate_time_lengths()\n",
    "skip_init = sim.get_skip_init(skip_init_time=100)  \n",
    "\n",
    "# encode states\n",
    "hist_states = []\n",
    "for idx in range(len(sim.hist_server_count)):\n",
    "    if sim.hist_server_count[idx] == 0:\n",
    "        hist_states.append((0, 'd'))\n",
    "    else:\n",
    "        curr_server_count = sim.hist_server_count[idx]\n",
    "        prev_server_count = sim.hist_server_count[idx-1]\n",
    "        if curr_server_count > prev_server_count:\n",
    "            hist_states.append((curr_server_count, 'u'))\n",
    "        elif curr_server_count < prev_server_count:\n",
    "            hist_states.append((curr_server_count, 'd'))\n",
    "        else: # state hasn't changed\n",
    "            hist_states.append(hist_states[-1])\n",
    "\n",
    "vals, probs = sim.calculate_time_average(hist_states, skip_init_index=skip_init)\n",
    "sim.print_time_average(vals, probs)\n",
    "residence_time_avgs = sim.get_average_residence_times(hist_states, skip_init_index=skip_init)\n",
    "residence_time_list = [residence_time_avgs[s] for s in vals]\n",
    "df = pd.DataFrame(data = {'state': vals, 'prob': probs, 'sojourn_time': residence_time_list})\n",
    "df = df.sort_values(by='state')\n",
    "df\n",
    "\n"
   ]
  }
 ],
 "metadata": {
  "kernelspec": {
   "display_name": "Python 3.10.6 64-bit",
   "language": "python",
   "name": "python3"
  },
  "language_info": {
   "name": "python",
   "version": "3.10.6"
  },
  "orig_nbformat": 4,
  "vscode": {
   "interpreter": {
    "hash": "916dbcbb3f70747c44a77c7bcd40155683ae19c65e1c03b4aa3499c5328201f1"
   }
  }
 },
 "nbformat": 4,
 "nbformat_minor": 2
}
